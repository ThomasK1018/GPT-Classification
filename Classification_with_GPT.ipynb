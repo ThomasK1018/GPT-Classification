{
 "cells": [
  {
   "cell_type": "code",
   "execution_count": 1,
   "id": "22334f3e",
   "metadata": {},
   "outputs": [
    {
     "name": "stdout",
     "output_type": "stream",
     "text": [
      "WARNING:tensorflow:From C:\\Users\\thoma\\anaconda3\\Lib\\site-packages\\tf_keras\\src\\losses.py:2976: The name tf.losses.sparse_softmax_cross_entropy is deprecated. Please use tf.compat.v1.losses.sparse_softmax_cross_entropy instead.\n",
      "\n"
     ]
    }
   ],
   "source": [
    "import math\n",
    "import tensorflow as tf\n",
    "from transformers import GPT2Tokenizer, TFGPT2Model\n",
    "import pandas as pd\n",
    "import os\n",
    "import sys\n",
    "from IPython.display import HTML, display\n",
    "import numpy as np\n",
    "import pandas as pd\n",
    "from math import ceil\n",
    "from scipy.spatial.distance import cosine\n",
    "from sklearn.model_selection import train_test_split\n",
    "import matplotlib.pyplot as plt\n",
    "import seaborn as sns\n",
    "import collections\n",
    "import random\n",
    "import time\n",
    "import string\n",
    "import re\n"
   ]
  },
  {
   "cell_type": "code",
   "execution_count": 2,
   "id": "b26b037d",
   "metadata": {},
   "outputs": [
    {
     "data": {
      "text/html": [
       "\n",
       "        <progress\n",
       "            value='544'\n",
       "            max='544',\n",
       "            style='width: 100%'\n",
       "        >\n",
       "            544\n",
       "        </progress>\n",
       "    "
      ],
      "text/plain": [
       "<IPython.core.display.HTML object>"
      ]
     },
     "metadata": {},
     "output_type": "display_data"
    }
   ],
   "source": [
    "SUMMARY_PATH = 'MutualFundSummary'\n",
    "SUMMARY_LABELS_PATH = 'MutualFundLabels.csv'\n",
    "\n",
    "def progress(value, max=100):\n",
    "    return HTML(\"\"\"\n",
    "        <progress\n",
    "            value='{value}'\n",
    "            max='{max}',\n",
    "            style='width: 100%'\n",
    "        >\n",
    "            {value}\n",
    "        </progress>\n",
    "    \"\"\".format(value=value, max=max))\n",
    "\n",
    "\n",
    "def get_data(PATH):\n",
    "    list_dir = os.listdir(PATH)\n",
    "    texts = []\n",
    "    fund_names = []\n",
    "    out = display(progress(0, len(list_dir)-1), display_id=True)\n",
    "    for ii, filename in enumerate(list_dir) :\n",
    "        with open(PATH+'/'+filename, 'r', encoding=\"utf8\") as f :\n",
    "            txt = f.read()\n",
    "            try :\n",
    "                txt_split = txt.split('<head_breaker>')\n",
    "                summary = txt_split[1].strip()\n",
    "                fund_name = txt_split[0].strip()\n",
    "            except :\n",
    "                summary = txt\n",
    "                fund_name = ''\n",
    "        texts.append(summary)\n",
    "        fund_names.append(fund_name)\n",
    "        out.update(progress(ii, len(list_dir)-1))\n",
    "    return fund_names, texts\n",
    "\n",
    "fund_names, summaries = get_data(SUMMARY_PATH)\n",
    "\n",
    "df_extraction = pd.DataFrame({'fund_name' : fund_names, 'summary':summaries})\n",
    "df_label = pd.read_csv(SUMMARY_LABELS_PATH)\n",
    "df = df_label.merge(df_extraction, on='fund_name', how='left')\n",
    "df['summary'] = df['summary'].astype(str)\n",
    "df\n",
    "\n",
    "df_low_risk = df[df['Ivestment Strategy']!= 'Long Short Funds (High Risk)']\n",
    "df_high_risk = df[df['Ivestment Strategy'] == 'Long Short Funds (High Risk)']"
   ]
  },
  {
   "cell_type": "code",
   "execution_count": 3,
   "id": "ddffee79",
   "metadata": {},
   "outputs": [],
   "source": [
    "df_low_risk = df_low_risk.reset_index().loc[:,'id':]\n",
    "def find_string_containing_phrase(strings, phrases):\n",
    "    exact_match = False\n",
    "    for i, string in enumerate(strings):\n",
    "        for phrase in phrases:\n",
    "            if phrase == string:\n",
    "                exact_match = True\n",
    "            if phrase in string:\n",
    "                if exact_match:\n",
    "                    if i + 1 < len(strings):\n",
    "                        return strings[i + 1]\n",
    "                else:\n",
    "                    return string\n",
    "    return None\n",
    "\n",
    "principal_investment_strategies = []\n",
    "for i in range(len(df_low_risk)):\n",
    "    answer = find_string_containing_phrase([x for x in df_low_risk['summary'][i].lower().split('\\n') if x.strip()], ['what are the fund’s principal investment strategies?'.lower(), 'principal investment strategies', 'principal investment strategies ', 'principal investment strategy', 'principal strategies', 'What are the Fund’s main investment strategies?'.lower(), \"What are the Fund's Main Investment Strategies?\".lower()])\n",
    "    principal_investment_strategies.append(answer)\n",
    "\n",
    "names = [x for x in df_low_risk['fund_name']]"
   ]
  },
  {
   "cell_type": "code",
   "execution_count": 4,
   "id": "0446ca82",
   "metadata": {},
   "outputs": [],
   "source": [
    "index = 0\n",
    "while index < len(principal_investment_strategies):\n",
    "    if principal_investment_strategies[index] is None:\n",
    "        del principal_investment_strategies[index]\n",
    "        del names[index]\n",
    "        df_low_risk = df_low_risk.drop(index)\n",
    "    else:\n",
    "        index += 1\n",
    "        \n",
    "new_principal_investment_strategies = [x + ' ' + y for x, y in zip(names, principal_investment_strategies)]"
   ]
  },
  {
   "cell_type": "code",
   "execution_count": 5,
   "id": "74b93aa7",
   "metadata": {},
   "outputs": [
    {
     "data": {
      "text/html": [
       "<div>\n",
       "<style scoped>\n",
       "    .dataframe tbody tr th:only-of-type {\n",
       "        vertical-align: middle;\n",
       "    }\n",
       "\n",
       "    .dataframe tbody tr th {\n",
       "        vertical-align: top;\n",
       "    }\n",
       "\n",
       "    .dataframe thead th {\n",
       "        text-align: right;\n",
       "    }\n",
       "</style>\n",
       "<table border=\"1\" class=\"dataframe\">\n",
       "  <thead>\n",
       "    <tr style=\"text-align: right;\">\n",
       "      <th></th>\n",
       "      <th>Ivestment Strategy</th>\n",
       "      <th>summary</th>\n",
       "    </tr>\n",
       "  </thead>\n",
       "  <tbody>\n",
       "    <tr>\n",
       "      <th>0</th>\n",
       "      <td>Balanced Fund (Low Risk)</td>\n",
       "      <td>American Funds College 2018 Fund principal inv...</td>\n",
       "    </tr>\n",
       "    <tr>\n",
       "      <th>1</th>\n",
       "      <td>Balanced Fund (Low Risk)</td>\n",
       "      <td>American Funds College 2021 Fund principal inv...</td>\n",
       "    </tr>\n",
       "    <tr>\n",
       "      <th>2</th>\n",
       "      <td>Balanced Fund (Low Risk)</td>\n",
       "      <td>American Funds College 2024 Fund principal inv...</td>\n",
       "    </tr>\n",
       "    <tr>\n",
       "      <th>3</th>\n",
       "      <td>Balanced Fund (Low Risk)</td>\n",
       "      <td>American Funds College 2027 Fund principal inv...</td>\n",
       "    </tr>\n",
       "    <tr>\n",
       "      <th>4</th>\n",
       "      <td>Balanced Fund (Low Risk)</td>\n",
       "      <td>American Funds College 2030 Fund principal inv...</td>\n",
       "    </tr>\n",
       "    <tr>\n",
       "      <th>...</th>\n",
       "      <td>...</td>\n",
       "      <td>...</td>\n",
       "    </tr>\n",
       "    <tr>\n",
       "      <th>457</th>\n",
       "      <td>Fixed Income Long Only (Low Risk)</td>\n",
       "      <td>American Century Diversified Corporate Bond ET...</td>\n",
       "    </tr>\n",
       "    <tr>\n",
       "      <th>458</th>\n",
       "      <td>Fixed Income Long Only (Low Risk)</td>\n",
       "      <td>American Century Diversified Municipal Bond ET...</td>\n",
       "    </tr>\n",
       "    <tr>\n",
       "      <th>459</th>\n",
       "      <td>Equity Long Only (Low Risk)</td>\n",
       "      <td>American Century Quality Diversified Internati...</td>\n",
       "    </tr>\n",
       "    <tr>\n",
       "      <th>460</th>\n",
       "      <td>Equity Long Only (Low Risk)</td>\n",
       "      <td>American Century STOXX U.S. Quality Growth ETF...</td>\n",
       "    </tr>\n",
       "    <tr>\n",
       "      <th>461</th>\n",
       "      <td>Equity Long Only (Low Risk)</td>\n",
       "      <td>American Century STOXX U.S. Quality Value ETF ...</td>\n",
       "    </tr>\n",
       "  </tbody>\n",
       "</table>\n",
       "<p>462 rows × 2 columns</p>\n",
       "</div>"
      ],
      "text/plain": [
       "                    Ivestment Strategy  \\\n",
       "0             Balanced Fund (Low Risk)   \n",
       "1             Balanced Fund (Low Risk)   \n",
       "2             Balanced Fund (Low Risk)   \n",
       "3             Balanced Fund (Low Risk)   \n",
       "4             Balanced Fund (Low Risk)   \n",
       "..                                 ...   \n",
       "457  Fixed Income Long Only (Low Risk)   \n",
       "458  Fixed Income Long Only (Low Risk)   \n",
       "459        Equity Long Only (Low Risk)   \n",
       "460        Equity Long Only (Low Risk)   \n",
       "461        Equity Long Only (Low Risk)   \n",
       "\n",
       "                                               summary  \n",
       "0    American Funds College 2018 Fund principal inv...  \n",
       "1    American Funds College 2021 Fund principal inv...  \n",
       "2    American Funds College 2024 Fund principal inv...  \n",
       "3    American Funds College 2027 Fund principal inv...  \n",
       "4    American Funds College 2030 Fund principal inv...  \n",
       "..                                                 ...  \n",
       "457  American Century Diversified Corporate Bond ET...  \n",
       "458  American Century Diversified Municipal Bond ET...  \n",
       "459  American Century Quality Diversified Internati...  \n",
       "460  American Century STOXX U.S. Quality Growth ETF...  \n",
       "461  American Century STOXX U.S. Quality Value ETF ...  \n",
       "\n",
       "[462 rows x 2 columns]"
      ]
     },
     "execution_count": 5,
     "metadata": {},
     "output_type": "execute_result"
    }
   ],
   "source": [
    "df_low_risk_clean = pd.DataFrame([df_low_risk['Ivestment Strategy'].values, new_principal_investment_strategies], index = ['Ivestment Strategy', 'summary']).T\n",
    "df_low_risk_clean"
   ]
  },
  {
   "cell_type": "code",
   "execution_count": 6,
   "id": "eddee205",
   "metadata": {},
   "outputs": [],
   "source": [
    "X = df_low_risk_clean['summary']\n",
    "mapping = {\n",
    "    'Balanced Fund (Low Risk)': 0,\n",
    "    'Fixed Income Long Only (Low Risk)': 1,\n",
    "    'Equity Long Only (Low Risk)': 2,\n",
    "}\n",
    "\n",
    "y = df_low_risk_clean['Ivestment Strategy']\n",
    "\n",
    "y = pd.Series([mapping.get(x, 0) for x in y])  \n",
    "\n",
    "X_train, X_test, y_train, y_test = train_test_split(X, y, stratify = y)"
   ]
  },
  {
   "cell_type": "code",
   "execution_count": 7,
   "id": "337aac44",
   "metadata": {},
   "outputs": [
    {
     "data": {
      "text/plain": [
       "103"
      ]
     },
     "execution_count": 7,
     "metadata": {},
     "output_type": "execute_result"
    }
   ],
   "source": [
    "MAX_LENGTH = math.ceil((X_train.apply(lambda x: len(str(x).split())).mean()))+2\n",
    "MAX_LENGTH"
   ]
  },
  {
   "cell_type": "code",
   "execution_count": 8,
   "id": "1bcfefa2",
   "metadata": {},
   "outputs": [
    {
     "name": "stderr",
     "output_type": "stream",
     "text": [
      "C:\\Users\\thoma\\anaconda3\\Lib\\site-packages\\huggingface_hub\\file_download.py:1132: FutureWarning: `resume_download` is deprecated and will be removed in version 1.0.0. Downloads always resume when possible. If you want to force a new download, use `force_download=True`.\n",
      "  warnings.warn(\n"
     ]
    }
   ],
   "source": [
    "PAD_TOKEN = \"<|pad|>\"\n",
    "EOS_TOKEN = \"<|endoftext|>\"\n",
    "\n",
    "tokenizer = GPT2Tokenizer.from_pretrained(\"gpt2\",\n",
    "    pad_token=PAD_TOKEN,\n",
    "    eos_token=EOS_TOKEN,\n",
    "    max_length=MAX_LENGTH,\n",
    "    is_split_into_words=True)"
   ]
  },
  {
   "cell_type": "code",
   "execution_count": 9,
   "id": "461fcbda",
   "metadata": {},
   "outputs": [],
   "source": [
    "X_train = [str(ex) + EOS_TOKEN for ex in X_train]\n",
    "X_test = [str(ex) + EOS_TOKEN for ex in X_test]"
   ]
  },
  {
   "cell_type": "code",
   "execution_count": 10,
   "id": "cd57dd2f",
   "metadata": {},
   "outputs": [
    {
     "name": "stderr",
     "output_type": "stream",
     "text": [
      "C:\\Users\\thoma\\anaconda3\\Lib\\site-packages\\transformers\\tokenization_utils_base.py:2674: FutureWarning: The `pad_to_max_length` argument is deprecated and will be removed in a future version, use `padding=True` or `padding='longest'` to pad to the longest sequence in the batch, or use `padding='max_length'` to pad to a max length. In this case, you can give a specific length with `max_length` (e.g. `max_length=45`) or leave max_length to None to pad to the maximal input size of the model (e.g. 512 for Bert).\n",
      "  warnings.warn(\n"
     ]
    }
   ],
   "source": [
    "X_train_ = [tokenizer(str(x), return_tensors='tf', max_length=MAX_LENGTH, truncation=True, pad_to_max_length=True, add_special_tokens=True)['input_ids'] for x in X_train]\n",
    "X_test_ = [tokenizer(str(x), return_tensors='tf', max_length=MAX_LENGTH, truncation=True, pad_to_max_length=True, add_special_tokens=True)['input_ids'] for x in X_test]\n",
    "\n",
    "X_train_in = tf.squeeze(tf.convert_to_tensor(X_train_), axis=1)\n",
    "X_test_in = tf.squeeze(tf.convert_to_tensor(X_test_), axis=1)"
   ]
  },
  {
   "cell_type": "code",
   "execution_count": 11,
   "id": "7607cd13",
   "metadata": {},
   "outputs": [],
   "source": [
    "X_train_mask_ = [tokenizer(str(x), return_tensors='tf', max_length=MAX_LENGTH, truncation=True, pad_to_max_length=True, add_special_tokens=True)[\"attention_mask\"] for x in X_train]\n",
    "X_test_mask_ = [tokenizer(str(x), return_tensors='tf', max_length=MAX_LENGTH, truncation=True, pad_to_max_length=True, add_special_tokens=True)[\"attention_mask\"] for x in X_test]\n",
    "\n",
    "X_train_mask = tf.squeeze(tf.convert_to_tensor(X_train_mask_), axis=1)\n",
    "X_test_mask = tf.squeeze(tf.convert_to_tensor(X_test_mask_), axis=1)"
   ]
  },
  {
   "cell_type": "code",
   "execution_count": 12,
   "id": "af493ba9",
   "metadata": {},
   "outputs": [
    {
     "name": "stdout",
     "output_type": "stream",
     "text": [
      "WARNING:tensorflow:From C:\\Users\\thoma\\anaconda3\\Lib\\site-packages\\tf_keras\\src\\backend.py:873: The name tf.get_default_graph is deprecated. Please use tf.compat.v1.get_default_graph instead.\n",
      "\n"
     ]
    },
    {
     "name": "stderr",
     "output_type": "stream",
     "text": [
      "All PyTorch model weights were used when initializing TFGPT2Model.\n",
      "\n",
      "All the weights of TFGPT2Model were initialized from the PyTorch model.\n",
      "If your task is similar to the task the model of the checkpoint was trained on, you can already use TFGPT2Model for predictions without further training.\n"
     ]
    }
   ],
   "source": [
    "model = TFGPT2Model.from_pretrained(\"gpt2\", use_cache=False,\n",
    "        pad_token_id=tokenizer.pad_token_id,\n",
    "        eos_token_id=tokenizer.eos_token_id)\n",
    "model.training = True"
   ]
  },
  {
   "cell_type": "code",
   "execution_count": 13,
   "id": "7ea22d51",
   "metadata": {},
   "outputs": [
    {
     "data": {
      "text/plain": [
       "<tf_keras.src.layers.core.embedding.Embedding at 0x244dd309ad0>"
      ]
     },
     "execution_count": 13,
     "metadata": {},
     "output_type": "execute_result"
    }
   ],
   "source": [
    "model.resize_token_embeddings(len(tokenizer))"
   ]
  },
  {
   "cell_type": "code",
   "execution_count": 14,
   "id": "f12a942b",
   "metadata": {},
   "outputs": [],
   "source": [
    "for layer in model.layers:\n",
    "    layer.trainable = False"
   ]
  },
  {
   "cell_type": "code",
   "execution_count": 15,
   "id": "0164ce4b",
   "metadata": {},
   "outputs": [],
   "source": [
    "sys.setrecursionlimit(1000)"
   ]
  },
  {
   "cell_type": "code",
   "execution_count": 16,
   "id": "69e0610a",
   "metadata": {},
   "outputs": [
    {
     "name": "stdout",
     "output_type": "stream",
     "text": [
      "WARNING:tensorflow:From C:\\Users\\thoma\\anaconda3\\Lib\\site-packages\\tensorflow\\python\\autograph\\converters\\directives.py:126: The name tf.nn.fused_batch_norm is deprecated. Please use tf.compat.v1.nn.fused_batch_norm instead.\n",
      "\n"
     ]
    }
   ],
   "source": [
    "input = tf.keras.layers.Input(shape=(None,), dtype='int32')\n",
    "mask = tf.keras.layers.Input(shape=(None,), dtype='int32')\n",
    "x = model(input, attention_mask=mask)\n",
    "x = tf.reduce_mean(x.last_hidden_state, axis=1)\n",
    "x = tf.keras.layers.Dense(16, activation='relu')(x)\n",
    "x = tf.keras.layers.Dropout(0.3)(x)\n",
    "output = tf.keras.layers.Dense(3, activation='softmax')(x)"
   ]
  },
  {
   "cell_type": "code",
   "execution_count": 17,
   "id": "e961260b",
   "metadata": {},
   "outputs": [],
   "source": [
    "clf = tf.keras.Model([input, mask], output)"
   ]
  },
  {
   "cell_type": "code",
   "execution_count": 18,
   "id": "4399d533",
   "metadata": {},
   "outputs": [],
   "source": [
    "base_learning_rate = 0.0005\n",
    "optimizer=tf.keras.optimizers.Adam(learning_rate=base_learning_rate)\n",
    "loss=tf.keras.losses.SparseCategoricalCrossentropy()\n",
    "\n",
    "clf.compile(optimizer=optimizer, loss=loss, metrics=['accuracy'])"
   ]
  },
  {
   "cell_type": "code",
   "execution_count": 19,
   "id": "df727257",
   "metadata": {},
   "outputs": [],
   "source": [
    "callbacks = tf.keras.callbacks.EarlyStopping(\n",
    "        monitor=\"accuracy\", verbose=1, patience=3, restore_best_weights=True)"
   ]
  },
  {
   "cell_type": "code",
   "execution_count": 20,
   "id": "bb0c8c22",
   "metadata": {},
   "outputs": [],
   "source": [
    "def map_sentiment(value):\n",
    "  if value == 0:\n",
    "    return 0\n",
    "  if value == 1:\n",
    "    return 1\n",
    "  if value == 2:\n",
    "    return 2"
   ]
  },
  {
   "cell_type": "code",
   "execution_count": 21,
   "id": "2c4f87e6",
   "metadata": {},
   "outputs": [],
   "source": [
    "y_train_ = y_train.map(map_sentiment)\n",
    "y_test_ = y_test.map(map_sentiment)\n"
   ]
  },
  {
   "cell_type": "code",
   "execution_count": 22,
   "id": "d4ee248d",
   "metadata": {},
   "outputs": [],
   "source": [
    "y_train_in = tf.constant(y_train_, dtype=tf.int32)\n",
    "y_test_in = tf.constant(y_test_, dtype=tf.int32)"
   ]
  },
  {
   "cell_type": "code",
   "execution_count": 23,
   "id": "076eaabb",
   "metadata": {},
   "outputs": [
    {
     "name": "stdout",
     "output_type": "stream",
     "text": [
      "WARNING:tensorflow:From C:\\Users\\thoma\\AppData\\Local\\Temp\\ipykernel_28392\\2874510872.py:1: experimental_run_functions_eagerly (from tensorflow.python.eager.polymorphic_function.eager_function_run) is deprecated and will be removed in a future version.\n",
      "Instructions for updating:\n",
      "Use `tf.config.run_functions_eagerly` instead of the experimental version.\n"
     ]
    }
   ],
   "source": [
    "tf.config.experimental_run_functions_eagerly(True)"
   ]
  },
  {
   "cell_type": "code",
   "execution_count": 24,
   "id": "f69be3d2",
   "metadata": {},
   "outputs": [
    {
     "name": "stderr",
     "output_type": "stream",
     "text": [
      "C:\\Users\\thoma\\anaconda3\\Lib\\site-packages\\tensorflow\\python\\data\\ops\\structured_function.py:258: UserWarning: Even though the `tf.config.experimental_run_functions_eagerly` option is set, this option does not apply to tf.data functions. To force eager execution of tf.data functions, please use `tf.data.experimental.enable_debug_mode()`.\n",
      "  warnings.warn(\n"
     ]
    },
    {
     "name": "stdout",
     "output_type": "stream",
     "text": [
      "Epoch 1/30\n",
      "WARNING:tensorflow:From C:\\Users\\thoma\\anaconda3\\Lib\\site-packages\\tf_keras\\src\\utils\\tf_utils.py:492: The name tf.ragged.RaggedTensorValue is deprecated. Please use tf.compat.v1.ragged.RaggedTensorValue instead.\n",
      "\n",
      "9/9 [==============================] - 189s 18s/step - loss: 8.0062 - accuracy: 0.5217 - val_loss: 5.6893 - val_accuracy: 0.5571\n",
      "Epoch 2/30\n",
      "9/9 [==============================] - 157s 17s/step - loss: 6.3237 - accuracy: 0.4746 - val_loss: 3.6098 - val_accuracy: 0.5571\n",
      "Epoch 3/30\n",
      "9/9 [==============================] - 149s 17s/step - loss: 4.4149 - accuracy: 0.5036 - val_loss: 2.1201 - val_accuracy: 0.5571\n",
      "Epoch 4/30\n",
      "9/9 [==============================] - 150s 17s/step - loss: 3.1421 - accuracy: 0.4674 - val_loss: 1.2820 - val_accuracy: 0.6714\n",
      "Epoch 4: early stopping\n",
      "Restoring model weights from the end of the best epoch: 1.\n"
     ]
    }
   ],
   "source": [
    "history = clf.fit([X_train_in, X_train_mask], y_train_in, epochs=30, batch_size=32, validation_split=0.2, callbacks=callbacks)"
   ]
  },
  {
   "cell_type": "code",
   "execution_count": 25,
   "id": "26ecc276",
   "metadata": {},
   "outputs": [
    {
     "name": "stdout",
     "output_type": "stream",
     "text": [
      "4/4 [==============================] - 20s 5s/step - loss: 6.0840 - accuracy: 0.5345\n"
     ]
    },
    {
     "data": {
      "text/plain": [
       "[6.08402156829834, 0.5344827771186829]"
      ]
     },
     "execution_count": 25,
     "metadata": {},
     "output_type": "execute_result"
    }
   ],
   "source": [
    "clf.evaluate([X_test_in, X_test_mask], y_test_in)"
   ]
  },
  {
   "cell_type": "code",
   "execution_count": 26,
   "id": "7fd05c16",
   "metadata": {},
   "outputs": [
    {
     "name": "stdout",
     "output_type": "stream",
     "text": [
      "4/4 [==============================] - 20s 5s/step\n"
     ]
    }
   ],
   "source": [
    "clf.training = False\n",
    "y_pred = clf.predict([X_test_in, X_test_mask])"
   ]
  },
  {
   "cell_type": "code",
   "execution_count": 27,
   "id": "02cb3028",
   "metadata": {},
   "outputs": [
    {
     "data": {
      "text/plain": [
       "<tf.Tensor: shape=(116,), dtype=int64, numpy=\n",
       "array([2, 2, 2, 2, 2, 2, 2, 2, 2, 2, 2, 2, 2, 2, 2, 2, 2, 2, 2, 2, 2, 2,\n",
       "       2, 2, 2, 2, 2, 2, 2, 2, 2, 2, 2, 2, 2, 2, 2, 2, 2, 2, 2, 2, 2, 2,\n",
       "       2, 2, 2, 2, 2, 2, 2, 2, 2, 2, 2, 2, 2, 2, 2, 2, 2, 2, 2, 2, 2, 2,\n",
       "       2, 2, 2, 2, 2, 2, 2, 2, 2, 2, 2, 2, 2, 2, 2, 2, 2, 2, 2, 2, 2, 2,\n",
       "       2, 2, 2, 2, 2, 2, 2, 2, 2, 2, 2, 2, 2, 2, 2, 2, 2, 2, 2, 2, 2, 2,\n",
       "       2, 2, 2, 2, 2, 2], dtype=int64)>"
      ]
     },
     "execution_count": 27,
     "metadata": {},
     "output_type": "execute_result"
    }
   ],
   "source": [
    "y_pred_out = tf.math.argmax(y_pred, axis=-1)\n",
    "y_pred_out"
   ]
  },
  {
   "cell_type": "code",
   "execution_count": 28,
   "id": "00375886",
   "metadata": {},
   "outputs": [],
   "source": [
    "from matplotlib import pyplot as plt\n",
    "import seaborn as sns\n",
    "from sklearn.metrics import confusion_matrix\n",
    "from sklearn.metrics import classification_report"
   ]
  },
  {
   "cell_type": "code",
   "execution_count": 29,
   "id": "6fead741",
   "metadata": {},
   "outputs": [
    {
     "name": "stdout",
     "output_type": "stream",
     "text": [
      "              precision    recall  f1-score   support\n",
      "\n",
      "           0       0.00      0.00      0.00        21\n",
      "           1       0.00      0.00      0.00        33\n",
      "           2       0.53      1.00      0.70        62\n",
      "\n",
      "    accuracy                           0.53       116\n",
      "   macro avg       0.18      0.33      0.23       116\n",
      "weighted avg       0.29      0.53      0.37       116\n",
      "\n"
     ]
    },
    {
     "name": "stderr",
     "output_type": "stream",
     "text": [
      "C:\\Users\\thoma\\anaconda3\\Lib\\site-packages\\sklearn\\metrics\\_classification.py:1509: UndefinedMetricWarning: Precision is ill-defined and being set to 0.0 in labels with no predicted samples. Use `zero_division` parameter to control this behavior.\n",
      "  _warn_prf(average, modifier, f\"{metric.capitalize()} is\", len(result))\n",
      "C:\\Users\\thoma\\anaconda3\\Lib\\site-packages\\sklearn\\metrics\\_classification.py:1509: UndefinedMetricWarning: Precision is ill-defined and being set to 0.0 in labels with no predicted samples. Use `zero_division` parameter to control this behavior.\n",
      "  _warn_prf(average, modifier, f\"{metric.capitalize()} is\", len(result))\n",
      "C:\\Users\\thoma\\anaconda3\\Lib\\site-packages\\sklearn\\metrics\\_classification.py:1509: UndefinedMetricWarning: Precision is ill-defined and being set to 0.0 in labels with no predicted samples. Use `zero_division` parameter to control this behavior.\n",
      "  _warn_prf(average, modifier, f\"{metric.capitalize()} is\", len(result))\n"
     ]
    }
   ],
   "source": [
    "print(classification_report(y_test_in, y_pred_out))"
   ]
  },
  {
   "cell_type": "code",
   "execution_count": 30,
   "id": "b847000d",
   "metadata": {},
   "outputs": [
    {
     "data": {
      "text/html": [
       "<div>\n",
       "<style scoped>\n",
       "    .dataframe tbody tr th:only-of-type {\n",
       "        vertical-align: middle;\n",
       "    }\n",
       "\n",
       "    .dataframe tbody tr th {\n",
       "        vertical-align: top;\n",
       "    }\n",
       "\n",
       "    .dataframe thead th {\n",
       "        text-align: right;\n",
       "    }\n",
       "</style>\n",
       "<table border=\"1\" class=\"dataframe\">\n",
       "  <thead>\n",
       "    <tr style=\"text-align: right;\">\n",
       "      <th></th>\n",
       "      <th>Predicted Balanced</th>\n",
       "      <th>Predicted Fixed Income</th>\n",
       "      <th>Predicted Equity</th>\n",
       "    </tr>\n",
       "  </thead>\n",
       "  <tbody>\n",
       "    <tr>\n",
       "      <th>Actual Balanced</th>\n",
       "      <td>0</td>\n",
       "      <td>0</td>\n",
       "      <td>21</td>\n",
       "    </tr>\n",
       "    <tr>\n",
       "      <th>Actual Fixed Income</th>\n",
       "      <td>0</td>\n",
       "      <td>0</td>\n",
       "      <td>33</td>\n",
       "    </tr>\n",
       "    <tr>\n",
       "      <th>Actual Equity</th>\n",
       "      <td>0</td>\n",
       "      <td>0</td>\n",
       "      <td>62</td>\n",
       "    </tr>\n",
       "  </tbody>\n",
       "</table>\n",
       "</div>"
      ],
      "text/plain": [
       "                     Predicted Balanced  Predicted Fixed Income  \\\n",
       "Actual Balanced                       0                       0   \n",
       "Actual Fixed Income                   0                       0   \n",
       "Actual Equity                         0                       0   \n",
       "\n",
       "                     Predicted Equity  \n",
       "Actual Balanced                    21  \n",
       "Actual Fixed Income                33  \n",
       "Actual Equity                      62  "
      ]
     },
     "execution_count": 30,
     "metadata": {},
     "output_type": "execute_result"
    }
   ],
   "source": [
    "confusion_df = pd.DataFrame(confusion_matrix(y_test_in, y_pred_out))\n",
    "confusion_df.index = ['Actual Balanced', 'Actual Fixed Income', 'Actual Equity']\n",
    "confusion_df.columns = ['Predicted Balanced', 'Predicted Fixed Income', 'Predicted Equity']\n",
    "confusion_df"
   ]
  },
  {
   "cell_type": "code",
   "execution_count": 31,
   "id": "5218b3bd",
   "metadata": {},
   "outputs": [
    {
     "data": {
      "image/png": "[encoded data removed]",
      "text/plain": [
       "<Figure size 1200x800 with 2 Axes>"
      ]
     },
     "metadata": {},
     "output_type": "display_data"
    }
   ],
   "source": [
    "plt.figure(figsize=(12, 8))\n",
    "sns.heatmap(confusion_df, annot=True, fmt='d', linewidths=0.5) \n",
    "plt.yticks(rotation=0)\n",
    "plt.xticks(rotation=45)\n",
    "plt.show()"
   ]
  }
 ],
 "metadata": {
  "kernelspec": {
   "display_name": "Python 3 (ipykernel)",
   "language": "python",
   "name": "python3"
  },
  "language_info": {
   "codemirror_mode": {
    "name": "ipython",
    "version": 3
   },
   "file_extension": ".py",
   "mimetype": "text/x-python",
   "name": "python",
   "nbconvert_exporter": "python",
   "pygments_lexer": "ipython3",
   "version": "3.11.9"
  }
 },
 "nbformat": 4,
 "nbformat_minor": 5
}
